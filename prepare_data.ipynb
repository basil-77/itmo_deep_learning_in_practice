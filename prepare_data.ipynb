{
 "cells": [
  {
   "cell_type": "code",
   "execution_count": 2,
   "metadata": {
    "execution": {
     "iopub.execute_input": "2023-11-14T12:26:49.029012Z",
     "iopub.status.busy": "2023-11-14T12:26:49.028156Z",
     "iopub.status.idle": "2023-11-14T12:26:49.033444Z",
     "shell.execute_reply": "2023-11-14T12:26:49.032452Z",
     "shell.execute_reply.started": "2023-11-14T12:26:49.028978Z"
    }
   },
   "outputs": [],
   "source": [
    "import pandas as pd\n",
    "from tqdm.notebook import tqdm\n",
    "import os\n",
    "from shutil import copyfile, move, copy\n",
    "import sys\n",
    "import json\n",
    "import git"
   ]
  },
  {
   "cell_type": "code",
   "execution_count": 105,
   "metadata": {
    "execution": {
     "iopub.execute_input": "2023-11-14T12:08:22.443448Z",
     "iopub.status.busy": "2023-11-14T12:08:22.442688Z",
     "iopub.status.idle": "2023-11-14T12:08:23.386944Z",
     "shell.execute_reply": "2023-11-14T12:08:23.385858Z",
     "shell.execute_reply.started": "2023-11-14T12:08:22.443417Z"
    }
   },
   "outputs": [
    {
     "name": "stdout",
     "output_type": "stream",
     "text": [
      "rm: cannot remove '/kaggle/working/': Device or resource busy\n"
     ]
    }
   ],
   "source": [
    "!rm -r /kaggle/working/"
   ]
  },
  {
   "cell_type": "code",
   "execution_count": 6,
   "metadata": {
    "execution": {
     "iopub.execute_input": "2023-11-14T12:08:24.743233Z",
     "iopub.status.busy": "2023-11-14T12:08:24.742536Z",
     "iopub.status.idle": "2023-11-14T12:08:25.303654Z",
     "shell.execute_reply": "2023-11-14T12:08:25.302863Z",
     "shell.execute_reply.started": "2023-11-14T12:08:24.743198Z"
    }
   },
   "outputs": [
    {
     "data": {
      "text/plain": [
       "<git.repo.base.Repo 'C:\\\\Users\\\\basil\\\\D_Drive\\\\ИТМО\\\\1 курс\\\\глубокое обучение на практике\\\\JSON2YOLO\\\\.git'>"
      ]
     },
     "execution_count": 6,
     "metadata": {},
     "output_type": "execute_result"
    }
   ],
   "source": [
    "git.Repo.clone_from('https://github.com/ultralytics/JSON2YOLO.git', './JSON2YOLO')"
   ]
  },
  {
   "cell_type": "code",
   "execution_count": 7,
   "metadata": {
    "execution": {
     "iopub.execute_input": "2023-11-14T12:08:29.752188Z",
     "iopub.status.busy": "2023-11-14T12:08:29.751788Z",
     "iopub.status.idle": "2023-11-14T12:08:29.759841Z",
     "shell.execute_reply": "2023-11-14T12:08:29.759001Z",
     "shell.execute_reply.started": "2023-11-14T12:08:29.752157Z"
    }
   },
   "outputs": [
    {
     "name": "stdout",
     "output_type": "stream",
     "text": [
      "[\"            h, w, f = img['height'], img['width'], img['file_name'].split('/')[1]\"]\n"
     ]
    }
   ],
   "source": [
    "with open('./JSON2YOLO/general_json2yolo.py', 'r+') as fd:\n",
    "    lines = fd.readlines()                                                     \n",
    "    fd.seek(0)                                                                 \n",
    "    line273 = [\"            h, w, f = img['height'], img['width'], img['file_name'].split('/')[1]\"]\n",
    "    print(line273)\n",
    "    fd.writelines(lines[:273] + line273 + lines[274:])"
   ]
  },
  {
   "cell_type": "code",
   "execution_count": 8,
   "metadata": {
    "execution": {
     "iopub.execute_input": "2023-11-14T12:08:33.270083Z",
     "iopub.status.busy": "2023-11-14T12:08:33.269371Z",
     "iopub.status.idle": "2023-11-14T12:08:33.276298Z",
     "shell.execute_reply": "2023-11-14T12:08:33.275389Z",
     "shell.execute_reply.started": "2023-11-14T12:08:33.270051Z"
    }
   },
   "outputs": [
    {
     "name": "stdout",
     "output_type": "stream",
     "text": [
      "            h, w, f = img['height'], img['width'], img['file_name'].split('/')[1]\n",
      "\n"
     ]
    }
   ],
   "source": [
    "fd = open('./JSON2YOLO/general_json2yolo.py', 'r')                                             \n",
    "lines = fd.readlines()                                                     \n",
    "fd.seek(0)                                                                 \n",
    "print(lines[273])\n",
    "fd.close()"
   ]
  },
  {
   "cell_type": "code",
   "execution_count": 15,
   "metadata": {
    "execution": {
     "iopub.execute_input": "2023-11-14T12:26:54.591250Z",
     "iopub.status.busy": "2023-11-14T12:26:54.590645Z",
     "iopub.status.idle": "2023-11-14T12:27:05.219432Z",
     "shell.execute_reply": "2023-11-14T12:27:05.218594Z",
     "shell.execute_reply.started": "2023-11-14T12:26:54.591204Z"
    }
   },
   "outputs": [
    {
     "name": "stderr",
     "output_type": "stream",
     "text": [
      "Annotations D:\\ИТМО\\1 курс\\глубокое обучение на практике\\data\\train_annotation\\train_anno.json: 100%|█| 54188/54188 [00\n"
     ]
    },
    {
     "data": {
      "application/vnd.jupyter.widget-view+json": {
       "model_id": "7ad27430d33044a290b92fa824c3a169",
       "version_major": 2,
       "version_minor": 0
      },
      "text/plain": [
       "  0%|          | 0/54188 [00:00<?, ?it/s]"
      ]
     },
     "metadata": {},
     "output_type": "display_data"
    },
    {
     "name": "stderr",
     "output_type": "stream",
     "text": [
      "Annotations D:\\ИТМО\\1 курс\\глубокое обучение на практике\\data\\test_annotation\\val_anno.json: 100%|█| 5000/5000 [00:03<0\n"
     ]
    },
    {
     "data": {
      "application/vnd.jupyter.widget-view+json": {
       "model_id": "cf5ec268804748a3bd378366d3b8e78c",
       "version_major": 2,
       "version_minor": 0
      },
      "text/plain": [
       "  0%|          | 0/5000 [00:00<?, ?it/s]"
      ]
     },
     "metadata": {},
     "output_type": "display_data"
    }
   ],
   "source": [
    "sys.path.append('/data/rtsd-dataset')\n",
    "sys.path.append('./JSON2YOLO')\n",
    "from JSON2YOLO.general_json2yolo import convert_coco_json\n",
    "\n",
    "test_path = './data/test_annotation/'\n",
    "train_path = './data/train_annotation/'\n",
    "\n",
    "os.makedirs(train_path, exist_ok=True)\n",
    "os.makedirs(test_path, exist_ok=True)\n",
    "\n",
    "copy('./data/train_anno.json', os.path.join(train_path, 'train_anno.json'))\n",
    "copy('./data/val_anno.json', os.path.join(test_path, 'val_anno.json'))\n",
    "\n",
    "for folder in ['labels', 'images']:\n",
    "    for path in [test_path, train_path]:\n",
    "        os.makedirs(os.path.join(path, folder), exist_ok=True)\n",
    "        \n",
    "convert_coco_json(train_path)\n",
    "for file in tqdm(os.listdir(os.path.join('./new_dir/labels/train_anno'))):\n",
    "    move(os.path.join('./new_dir/labels/train_anno', file), os.path.join(train_path, 'labels', file))\n",
    "    \n",
    "convert_coco_json(test_path)\n",
    "for file in tqdm(os.listdir(os.path.join('./new_dir/labels/val_anno'))):\n",
    "    move(os.path.join('./new_dir/labels/val_anno', file), os.path.join(test_path, 'labels', file))"
   ]
  },
  {
   "cell_type": "code",
   "execution_count": 16,
   "metadata": {
    "execution": {
     "iopub.execute_input": "2023-11-14T12:30:32.788372Z",
     "iopub.status.busy": "2023-11-14T12:30:32.787912Z",
     "iopub.status.idle": "2023-11-14T12:37:46.602232Z",
     "shell.execute_reply": "2023-11-14T12:37:46.601171Z",
     "shell.execute_reply.started": "2023-11-14T12:30:32.788335Z"
    }
   },
   "outputs": [],
   "source": [
    "test_labels = os.listdir(os.path.join(test_path, 'labels'))\n",
    "train_labels = os.listdir(os.path.join(train_path, 'labels'))\n",
    "\n",
    "test_labels = set(map(lambda x: x.split('.')[0], test_labels))\n",
    "train_labels = set(map(lambda x: x.split('.')[0], train_labels))\n",
    "\n",
    "images = './data/rtsd-frames/rtsd-frames'\n",
    "for file in os.listdir(images):\n",
    "    name = file.split('.')[0]\n",
    "    if name in train_labels:\n",
    "        copy(os.path.join(images, file), os.path.join(train_path,'images', file))\n",
    "    if name in test_labels:\n",
    "        copy(os.path.join(images, file), os.path.join(test_path,'images', file))"
   ]
  }
 ],
 "metadata": {
  "kernelspec": {
   "display_name": "Python 3 (ipykernel)",
   "language": "python",
   "name": "python3"
  },
  "language_info": {
   "codemirror_mode": {
    "name": "ipython",
    "version": 3
   },
   "file_extension": ".py",
   "mimetype": "text/x-python",
   "name": "python",
   "nbconvert_exporter": "python",
   "pygments_lexer": "ipython3",
   "version": "3.9.13"
  }
 },
 "nbformat": 4,
 "nbformat_minor": 4
}
